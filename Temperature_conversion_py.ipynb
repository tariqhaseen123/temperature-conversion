{
  "nbformat": 4,
  "nbformat_minor": 0,
  "metadata": {
    "colab": {
      "provenance": [],
      "toc_visible": true,
      "authorship_tag": "ABX9TyNlWlIFnfQ6GYdEqDaeEn+P",
      "include_colab_link": true
    },
    "kernelspec": {
      "name": "python3",
      "display_name": "Python 3"
    },
    "language_info": {
      "name": "python"
    }
  },
  "cells": [
    {
      "cell_type": "markdown",
      "metadata": {
        "id": "view-in-github",
        "colab_type": "text"
      },
      "source": [
        "<a href=\"https://colab.research.google.com/github/tariqhaseen123/temperature-conversion/blob/main/Temperature_conversion_py.ipynb\" target=\"_parent\"><img src=\"https://colab.research.google.com/assets/colab-badge.svg\" alt=\"Open In Colab\"/></a>"
      ]
    },
    {
      "cell_type": "code",
      "execution_count": null,
      "metadata": {
        "id": "IdmsSACnkPwU"
      },
      "outputs": [],
      "source": [
        "h"
      ]
    },
    {
      "cell_type": "markdown",
      "source": [
        "The temperature is centigrade to fahrenheit:"
      ],
      "metadata": {
        "id": "i9LTt61rwjB_"
      }
    },
    {
      "cell_type": "code",
      "source": [
        "centigrade=float(input(\"Enter the Temperature in centigrade is :\"))\n",
        "fahrenheit=(centigrade * 9/5) + 32\n",
        "print(\" The Temperature fahrenheit is:\", fahrenheit )\n"
      ],
      "metadata": {
        "colab": {
          "base_uri": "https://localhost:8080/"
        },
        "id": "DAbtLy7ewznX",
        "outputId": "08622e3d-3147-4b8c-ca8f-f6985d808c6d"
      },
      "execution_count": null,
      "outputs": [
        {
          "output_type": "stream",
          "name": "stdout",
          "text": [
            "Enter the Temperature in centigrade is :56\n",
            " The Temperature fahrenheit is: 132.8\n"
          ]
        }
      ]
    },
    {
      "cell_type": "markdown",
      "source": [
        "The temperature is fahrenheit to centigrade:\n"
      ],
      "metadata": {
        "id": "hoyA_tn0y6hK"
      }
    },
    {
      "cell_type": "code",
      "source": [
        "fahrenheit=float(input(\"Enter the Temperatue in fahrenheit is:\"))\n",
        "centigrade=(fahrenheit-32) * 5/9\n",
        "print(\"The temperature in centigrade is:\", centigrade)\n"
      ],
      "metadata": {
        "colab": {
          "base_uri": "https://localhost:8080/"
        },
        "id": "W-HSu23xzGQg",
        "outputId": "040b258e-1cd2-4bc4-c3f9-e46278b9fadc"
      },
      "execution_count": null,
      "outputs": [
        {
          "output_type": "stream",
          "name": "stdout",
          "text": [
            "Enter the Temperatue in fahrenheit is:80\n",
            "The temperature in centigrade is: 26.666666666666668\n"
          ]
        }
      ]
    }
  ]
}